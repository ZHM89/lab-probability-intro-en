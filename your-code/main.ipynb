{
 "cells": [
  {
   "cell_type": "markdown",
   "metadata": {},
   "source": [
    "# Probability"
   ]
  },
  {
   "cell_type": "markdown",
   "metadata": {},
   "source": [
    "## Challenge 1\n",
    "There is a box with 10 white balls, 12 red balls and 8 black balls. Calculate the probability of:\n",
    "* Taking a white ball out.\n",
    "* Taking a white ball on first extraction and a black ball out on second extraction without replacing the first one.\n",
    "* Taking a white ball on first extraction and a black ball out on second extraction replacing the first one.\n",
    "* Taking 3 balls and them being all different colours."
   ]
  },
  {
   "cell_type": "code",
   "execution_count": 1,
   "metadata": {},
   "outputs": [
    {
     "name": "stdout",
     "output_type": "stream",
     "text": [
      "Probability of taking a white ball: 0.3333\n",
      "Probability of taking a white ball and a black ball without replacement: 0.0920\n",
      "Probability of taking a white ball and a black ball with replacement: 0.0889\n",
      "Probability of taking 3 balls, all different colours: 0.0394\n"
     ]
    }
   ],
   "source": [
    "# YOUR CODE HERE\n",
    "\n",
    "# Total number of balls in the box\n",
    "total_balls = 10 + 12 + 8  # 10 white, 12 red, 8 black\n",
    "\n",
    "# Probability of taking a white ball out\n",
    "prob_white = 10 / total_balls\n",
    "\n",
    "# Probability of taking a white ball first and a black ball second without replacement\n",
    "prob_white_black_no_replace = (10 / total_balls) * (8 / (total_balls - 1))\n",
    "\n",
    "# Probability of taking a white ball first and a black ball second with replacement\n",
    "prob_white_black_replace = (10 / total_balls) * (8 / total_balls)\n",
    "\n",
    "# Probability of taking 3 balls, all different colours\n",
    "prob_three_different_colours = (10 / total_balls) * (12 / (total_balls - 1)) * (8 / (total_balls - 2))\n",
    "\n",
    "# Print the results\n",
    "print(f\"Probability of taking a white ball: {prob_white:.4f}\")\n",
    "print(f\"Probability of taking a white ball and a black ball without replacement: {prob_white_black_no_replace:.4f}\")\n",
    "print(f\"Probability of taking a white ball and a black ball with replacement: {prob_white_black_replace:.4f}\")\n",
    "print(f\"Probability of taking 3 balls, all different colours: {prob_three_different_colours:.4f}\")\n"
   ]
  },
  {
   "cell_type": "markdown",
   "metadata": {},
   "source": [
    "## Challenge 2\n",
    "\n",
    "You want to go on picnic on Saturday. You hate rain, and would know to plan your weekend. To help you make a decision, you gather the following data about rainy days:\n",
    "\n",
    "* 40% of all days are cloudy.\n",
    "* About 50% of cloudy days are rainy. \n",
    "* About 20% of non-cloudy days are rainy.\n",
    "\n",
    "What is the chance of rain during next Saturday?"
   ]
  },
  {
   "cell_type": "code",
   "execution_count": 2,
   "metadata": {},
   "outputs": [
    {
     "name": "stdout",
     "output_type": "stream",
     "text": [
      "The probability of rain on Saturday is: 0.3200\n"
     ]
    }
   ],
   "source": [
    "# YOUR CODE HERE\n",
    "\n",
    "# Given probabilities\n",
    "P_cloudy = 0.40  # Probability of a cloudy day\n",
    "P_rain_given_cloudy = 0.50  # Probability of rain given it's cloudy\n",
    "P_rain_given_non_cloudy = 0.20  # Probability of rain given it's not cloudy\n",
    "P_non_cloudy = 1 - P_cloudy  # Probability of a non-cloudy day\n",
    "\n",
    "# Calculate the total probability of rain\n",
    "P_rain = (P_cloudy * P_rain_given_cloudy) + (P_non_cloudy * P_rain_given_non_cloudy)\n",
    "\n",
    "# Print the result\n",
    "print(f\"The probability of rain on Saturday is: {P_rain:.4f}\")"
   ]
  },
  {
   "cell_type": "markdown",
   "metadata": {},
   "source": [
    "## Challenge 3\n",
    "\n",
    "A and B are events of a probability such that $P(A) = 0.3$, $P(B) = 0.6$ and $P(A \\cap B) = 0.1$\n",
    "\n",
    "Which of the following statements are true?  \n",
    "**HINT: draw a big Venn Diagram by your side**  \n",
    "* $P(\\overline{A}) = 0.7$\n",
    "* $P(A \\cup B) = 0.6$\n",
    "* $P(A \\cap \\overline{B}) = 0.2$\n",
    "* $P(A \\cup \\overline{A}) = 1$  \n",
    "* $P(A \\cap (B \\cup \\overline{B})) = 0.4$\n",
    "* $P(\\overline{A} \\cap \\overline{B}) = 0.3$\n",
    "* $P(\\overline{A \\cap B}) = 0.9$"
   ]
  },
  {
   "cell_type": "code",
   "execution_count": 3,
   "metadata": {},
   "outputs": [
    {
     "name": "stdout",
     "output_type": "stream",
     "text": [
      "P(¬A) = 0.7000\n",
      "P(A ∪ B) = 0.8000\n",
      "P(A ∩ ¬B) = 0.2000\n",
      "P(A ∪ ¬A) = 1.0000\n",
      "P(A ∩ (B ∪ ¬B)) = 0.3000\n",
      "P(¬A ∩ ¬B) = 0.2000\n",
      "P(¬(A ∩ B)) = 0.9000\n"
     ]
    }
   ],
   "source": [
    "# YOUR CODE HERE\n",
    "\n",
    "# Given probabilities\n",
    "P_A = 0.3  # Probability of event A\n",
    "P_B = 0.6  # Probability of event B\n",
    "P_A_intersection_B = 0.1  # Probability of A and B happening together\n",
    "\n",
    "# 1. P(¬A) = 0.7\n",
    "P_not_A = 1 - P_A\n",
    "print(f\"P(¬A) = {P_not_A:.4f}\")\n",
    "\n",
    "# 2. P(A ∪ B) = 0.6\n",
    "P_A_union_B = P_A + P_B - P_A_intersection_B\n",
    "print(f\"P(A ∪ B) = {P_A_union_B:.4f}\")\n",
    "\n",
    "# 3. P(A ∩ ¬B) = 0.2\n",
    "P_A_intersection_not_B = P_A - P_A_intersection_B\n",
    "print(f\"P(A ∩ ¬B) = {P_A_intersection_not_B:.4f}\")\n",
    "\n",
    "# 4. P(A ∪ ¬A) = 1\n",
    "P_A_union_not_A = 1  # Since it's the entire sample space\n",
    "print(f\"P(A ∪ ¬A) = {P_A_union_not_A:.4f}\")\n",
    "\n",
    "# 5. P(A ∩ (B ∪ ¬B)) = 0.4\n",
    "# Since B ∪ ¬B is the entire sample space, P(A ∩ (B ∪ ¬B)) = P(A)\n",
    "P_A_intersection_B_union_not_B = P_A\n",
    "print(f\"P(A ∩ (B ∪ ¬B)) = {P_A_intersection_B_union_not_B:.4f}\")\n",
    "\n",
    "# 6. P(¬A ∩ ¬B) = 0.3\n",
    "P_not_A_intersection_not_B = 1 - P_A_union_B\n",
    "print(f\"P(¬A ∩ ¬B) = {P_not_A_intersection_not_B:.4f}\")\n",
    "\n",
    "# 7. P(¬(A ∩ B)) = 0.9\n",
    "P_not_A_intersection_B = 1 - P_A_intersection_B\n",
    "print(f\"P(¬(A ∩ B)) = {P_not_A_intersection_B:.4f}\")"
   ]
  },
  {
   "cell_type": "markdown",
   "metadata": {},
   "source": [
    "**Conclusions:**\n",
    "- Statements 1, 3, 4, 7 are True.\n",
    "- Statements 2, 5, 6 are False."
   ]
  },
  {
   "cell_type": "markdown",
   "metadata": {},
   "source": [
    "## Challenge 4\n",
    "\n",
    " * If someone flies to China, the probability of getting Covid is 1%  \n",
    " * If someone flies to Italy, the probability of getting Covid is 20%  \n",
    "\n",
    "I roll 1 dice with numbers 1, 2, 3, 4, 5, 6:  \n",
    " * If 1: I fly to Italy\n",
    " * If not 1: I fly to China\n",
    "\n",
    "During my trip, I got Covid. What is the probability that I flew to China?"
   ]
  },
  {
   "cell_type": "code",
   "execution_count": 4,
   "metadata": {},
   "outputs": [
    {
     "name": "stdout",
     "output_type": "stream",
     "text": [
      "The probability that I flew to China given that I got Covid is: 0.2000\n"
     ]
    }
   ],
   "source": [
    "# YOUR CODE HERE\n",
    "\n",
    "# Given probabilities\n",
    "P_covid_given_china = 0.01  # Probability of getting Covid if flew to China\n",
    "P_covid_given_italy = 0.20  # Probability of getting Covid if flew to Italy\n",
    "P_china = 5 / 6  # Probability of flying to China (if not 1 on the dice)\n",
    "P_italy = 1 / 6  # Probability of flying to Italy (if 1 on the dice)\n",
    "\n",
    "# Total probability of getting Covid (P(Covid))\n",
    "P_covid = (P_covid_given_italy * P_italy) + (P_covid_given_china * P_china)\n",
    "\n",
    "# Applying Bayes' Theorem to find P(China | Covid)\n",
    "P_china_given_covid = (P_covid_given_china * P_china) / P_covid\n",
    "\n",
    "# Output the result\n",
    "print(f\"The probability that I flew to China given that I got Covid is: {P_china_given_covid:.4f}\")"
   ]
  },
  {
   "cell_type": "markdown",
   "metadata": {},
   "source": [
    "## BONUS\n",
    "\n",
    "You roll 2 dice. What is the probability that the sum of the numbers is 7? And 8? And 9? Then simulate 10000 times and draw a countplot."
   ]
  },
  {
   "cell_type": "markdown",
   "metadata": {},
   "source": [
    "your explanation here"
   ]
  },
  {
   "cell_type": "code",
   "execution_count": 6,
   "metadata": {},
   "outputs": [
    {
     "name": "stderr",
     "output_type": "stream",
     "text": [
      "C:\\Users\\ZhouZhou\\AppData\\Local\\Temp\\ipykernel_6528\\956694954.py:17: FutureWarning: \n",
      "\n",
      "Passing `palette` without assigning `hue` is deprecated and will be removed in v0.14.0. Assign the `x` variable to `hue` and set `legend=False` for the same effect.\n",
      "\n",
      "  sns.countplot(x=results, palette=\"Set2\")\n"
     ]
    },
    {
     "data": {
      "image/png": "[encoded data removed]",
      "text/plain": [
       "<Figure size 800x600 with 1 Axes>"
      ]
     },
     "metadata": {},
     "output_type": "display_data"
    },
    {
     "name": "stdout",
     "output_type": "stream",
     "text": [
      "P(Sum = 7): 0.1667\n",
      "P(Sum = 8): 0.1389\n",
      "P(Sum = 9): 0.1111\n"
     ]
    }
   ],
   "source": [
    "# YOUR CODE HERE\n",
    "\n",
    "import random\n",
    "import seaborn as sns\n",
    "import matplotlib.pyplot as plt\n",
    "\n",
    "# Function to simulate the rolling of two dice\n",
    "def roll_dice():\n",
    "    return random.randint(1, 6) + random.randint(1, 6)\n",
    "\n",
    "# Simulate 10000 rolls\n",
    "results = [roll_dice() for _ in range(10000)]\n",
    "\n",
    "# Plot the results using seaborn countplot\n",
    "sns.set_style(style=\"whitegrid\")\n",
    "plt.figure(figsize=(8, 6))\n",
    "sns.countplot(x=results, palette=\"Set2\")\n",
    "\n",
    "# Set labels and title\n",
    "plt.title('Countplot of Sum of Two Dice Rolls (10000 Rolls)', fontsize=16)\n",
    "plt.xlabel('Sum of Dice', fontsize=14)\n",
    "plt.ylabel('Frequency', fontsize=14)\n",
    "\n",
    "# Show the plot\n",
    "plt.show()\n",
    "\n",
    "# Calculate and print the theoretical probabilities\n",
    "prob_7 = 6 / 36\n",
    "prob_8 = 5 / 36\n",
    "prob_9 = 4 / 36\n",
    "print(f\"P(Sum = 7): {prob_7:.4f}\")\n",
    "print(f\"P(Sum = 8): {prob_8:.4f}\")\n",
    "print(f\"P(Sum = 9): {prob_9:.4f}\")"
   ]
  },
  {
   "cell_type": "markdown",
   "metadata": {},
   "source": [
    "**Countplot:** A bar plot showing the frequency of each sum from the 10,000 dice rolls. The sums will typically follow the distribution of two dice sums with peaks around 7, and gradually decreasing frequencies for sums 2, 12, and other extreme values."
   ]
  }
 ],
 "metadata": {
  "kernelspec": {
   "display_name": "Python 3",
   "language": "python",
   "name": "python3"
  },
  "language_info": {
   "codemirror_mode": {
    "name": "ipython",
    "version": 3
   },
   "file_extension": ".py",
   "mimetype": "text/x-python",
   "name": "python",
   "nbconvert_exporter": "python",
   "pygments_lexer": "ipython3",
   "version": "3.11.9"
  },
  "toc": {
   "base_numbering": 1,
   "nav_menu": {},
   "number_sections": false,
   "sideBar": true,
   "skip_h1_title": false,
   "title_cell": "Table of Contents",
   "title_sidebar": "Contents",
   "toc_cell": false,
   "toc_position": {
    "height": "calc(100% - 180px)",
    "left": "10px",
    "top": "150px",
    "width": "296.475px"
   },
   "toc_section_display": true,
   "toc_window_display": false
  },
  "varInspector": {
   "cols": {
    "lenName": 16,
    "lenType": 16,
    "lenVar": 40
   },
   "kernels_config": {
    "python": {
     "delete_cmd_postfix": "",
     "delete_cmd_prefix": "del ",
     "library": "var_list.py",
     "varRefreshCmd": "print(var_dic_list())"
    },
    "r": {
     "delete_cmd_postfix": ") ",
     "delete_cmd_prefix": "rm(",
     "library": "var_list.r",
     "varRefreshCmd": "cat(var_dic_list()) "
    }
   },
   "types_to_exclude": [
    "module",
    "function",
    "builtin_function_or_method",
    "instance",
    "_Feature"
   ],
   "window_display": false
  }
 },
 "nbformat": 4,
 "nbformat_minor": 2
}
